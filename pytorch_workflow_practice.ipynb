{
 "cells": [
  {
   "cell_type": "code",
   "execution_count": 1,
   "id": "fdaa0f75-a414-405e-a2df-c460e9291f21",
   "metadata": {},
   "outputs": [],
   "source": [
    "import torch\n",
    "import torch.nn as nn\n",
    "import matplotlib.pyplot as plt\n",
    "import numpy as np"
   ]
  },
  {
   "cell_type": "markdown",
   "id": "a6a91290-85ed-4b95-a22c-f53987a0baf1",
   "metadata": {},
   "source": [
    "# Data"
   ]
  },
  {
   "cell_type": "code",
   "execution_count": 2,
   "id": "762e018f-2721-4b4c-a7bd-dc6e24d5eba7",
   "metadata": {},
   "outputs": [
    {
     "data": {
      "text/plain": [
       "(tensor([[0.0000],\n",
       "         [0.0200],\n",
       "         [0.0400],\n",
       "         [0.0600],\n",
       "         [0.0800],\n",
       "         [0.1000],\n",
       "         [0.1200],\n",
       "         [0.1400],\n",
       "         [0.1600],\n",
       "         [0.1800]]),\n",
       " tensor([[0.3000],\n",
       "         [0.3140],\n",
       "         [0.3280],\n",
       "         [0.3420],\n",
       "         [0.3560],\n",
       "         [0.3700],\n",
       "         [0.3840],\n",
       "         [0.3980],\n",
       "         [0.4120],\n",
       "         [0.4260]]))"
      ]
     },
     "execution_count": 2,
     "metadata": {},
     "output_type": "execute_result"
    }
   ],
   "source": [
    "# taking random value of w and b\n",
    "w = 0.7\n",
    "b = 0.3\n",
    "X = torch.arange(0,1,0.02).unsqueeze(dim = 1)\n",
    "y = w*X+b\n",
    "X[:10],y[:10]"
   ]
  },
  {
   "cell_type": "code",
   "execution_count": 28,
   "id": "ced183ea-86a3-4fcc-a86b-e85d7b06e611",
   "metadata": {},
   "outputs": [
    {
     "data": {
      "text/plain": [
       "(40, 40, 10, 10)"
      ]
     },
     "execution_count": 28,
     "metadata": {},
     "output_type": "execute_result"
    }
   ],
   "source": [
    "# splitting data \n",
    "train_split = int(0.8*len(X))\n",
    "X_train = X[:train_split]\n",
    "y_train = y[:train_split]\n",
    "X_test = X[train_split:]\n",
    "y_test = y[train_split:]\n",
    "len(X_train),len(y_train),len(X_test),len(y_test)"
   ]
  },
  {
   "cell_type": "code",
   "execution_count": 29,
   "id": "ad07ba57-62a2-4f88-9596-7daad7660fd7",
   "metadata": {},
   "outputs": [],
   "source": [
    "# plot the data\n",
    "def plot_predictions(train_data = X_train,\n",
    "                     train_label = y_train,\n",
    "                     test_data = X_test,\n",
    "                     test_label = y_test,\n",
    "                     predictions = None):\n",
    "    plt.scatter(train_data,train_label,label = \"training data\")\n",
    "    plt.scatter(test_data,test_label , label = \"test data\")\n",
    "    if predictions is not None:\n",
    "        plt.scatter(test_data,predictions,label = \"predictions\")\n",
    "    \n",
    "    plt.legend()\n",
    " "
   ]
  },
  {
   "cell_type": "code",
   "execution_count": 30,
   "id": "eaa9a7dd-c613-4db9-bace-a294786927aa",
   "metadata": {},
   "outputs": [
    {
     "data": {
      "image/png": "[encoded data removed]",
      "text/plain": [
       "<Figure size 640x480 with 1 Axes>"
      ]
     },
     "metadata": {},
     "output_type": "display_data"
    }
   ],
   "source": [
    "plot_predictions(X_train,y_train,X_test,y_test)   "
   ]
  },
  {
   "cell_type": "code",
   "execution_count": 31,
   "id": "e40a46d8-06d3-401c-b9b1-cfc38d327014",
   "metadata": {},
   "outputs": [
    {
     "data": {
      "text/plain": [
       "(LinearRegressionModel(),\n",
       " OrderedDict([('weights', tensor([0.3367])), ('bias', tensor([0.1288]))]))"
      ]
     },
     "execution_count": 31,
     "metadata": {},
     "output_type": "execute_result"
    }
   ],
   "source": [
    "# building a pytorch linear model\n",
    "class LinearRegressionModel(nn.Module):\n",
    "    def __init__(self):\n",
    "        super().__init__()\n",
    "        self.weights = nn.Parameter(torch.randn(1,requires_grad = True,dtype =torch.float))\n",
    "        self.bias = nn.Parameter(torch.randn(1,requires_grad = True,dtype =torch.float))\n",
    "    # forward method to define the computation in the model\n",
    "    def forward(self,x:torch.Tensor)->torch.Tensor:\n",
    "        return self.weights*x+self.bias\n",
    "\n",
    "torch.manual_seed(42)\n",
    "model = LinearRegressionModel()\n",
    "model,model.state_dict()"
   ]
  },
  {
   "cell_type": "markdown",
   "id": "8b6fe99c-f1f8-4da4-a467-a9ed27204af1",
   "metadata": {},
   "source": [
    "# using linear layer"
   ]
  },
  {
   "cell_type": "code",
   "execution_count": 32,
   "id": "56696802-c8a1-462d-a134-87d8648ecff7",
   "metadata": {},
   "outputs": [
    {
     "data": {
      "text/plain": [
       "(LinearRegressionModelV2(\n",
       "   (linear_layer): Linear(in_features=1, out_features=1, bias=True)\n",
       " ),\n",
       " OrderedDict([('linear_layer.weight', tensor([[0.7645]])),\n",
       "              ('linear_layer.bias', tensor([0.8300]))]))"
      ]
     },
     "execution_count": 32,
     "metadata": {},
     "output_type": "execute_result"
    }
   ],
   "source": [
    "# creating linear model by using subclasing nn.Module\n",
    "class LinearRegressionModelV2(nn.Module):\n",
    "    def __init__(self):\n",
    "        super().__init__()\n",
    "        self.linear_layer = nn.Linear(in_features = 1,out_features = 1)\n",
    "    def forward(self,x:torch.Tensor)->torch.Tensor:\n",
    "        return self.linear_layer(x)\n",
    "\n",
    "# set the manual seed\n",
    "torch.manual_seed(42)\n",
    "model_1 = LinearRegressionModelV2()\n",
    "model_1,model_1.state_dict()\n",
    "    "
   ]
  },
  {
   "cell_type": "markdown",
   "id": "f16282cd-adb6-4714-ab13-520b9fe67a67",
   "metadata": {},
   "source": [
    "# TRAINING\n",
    "for training we need:\n",
    "1. Loss function\n",
    "2. Optimizer\n",
    "3. Training loop\n",
    "4. Testing loop\n",
    "    "
   ]
  },
  {
   "cell_type": "code",
   "execution_count": 33,
   "id": "22734a31-4c00-46a9-8855-09593df5a2e4",
   "metadata": {},
   "outputs": [],
   "source": [
    "# setup loss function\n",
    "loss_fn = nn.L1Loss()\n",
    "# setup our optimizer\n",
    "optimizer = torch.optim.SGD(params = model_1.parameters(),lr = 0.01)"
   ]
  },
  {
   "cell_type": "code",
   "execution_count": 34,
   "id": "b54a588d-3603-4a16-8ba2-97a5dc0f4120",
   "metadata": {},
   "outputs": [
    {
     "name": "stdout",
     "output_type": "stream",
     "text": [
      "Epoch:0|Loss:0.5551779866218567|test loss:0.5739762187004089\n",
      "Epoch:10|Loss:0.4399680495262146|test loss:0.4392663538455963\n",
      "Epoch:20|Loss:0.3247582018375397|test loss:0.30455657839775085\n",
      "Epoch:30|Loss:0.20954827964305878|test loss:0.16984674334526062\n",
      "Epoch:40|Loss:0.09433844685554504|test loss:0.03513689711689949\n",
      "Epoch:50|Loss:0.023886386305093765|test loss:0.04784906655550003\n",
      "Epoch:60|Loss:0.0199567973613739|test loss:0.04580312222242355\n",
      "Epoch:70|Loss:0.016517987474799156|test loss:0.0375305712223053\n",
      "Epoch:80|Loss:0.013089170679450035|test loss:0.029944902285933495\n",
      "Epoch:90|Loss:0.009653178043663502|test loss:0.02167237363755703\n",
      "Epoch:100|Loss:0.006215679459273815|test loss:0.014086711220443249\n",
      "Epoch:110|Loss:0.002787243574857712|test loss:0.005814164876937866\n",
      "Epoch:120|Loss:0.0012645035749301314|test loss:0.013801807537674904\n",
      "Epoch:130|Loss:0.0012645035749301314|test loss:0.013801807537674904\n",
      "Epoch:140|Loss:0.0012645035749301314|test loss:0.013801807537674904\n",
      "Epoch:150|Loss:0.0012645035749301314|test loss:0.013801807537674904\n",
      "Epoch:160|Loss:0.0012645035749301314|test loss:0.013801807537674904\n",
      "Epoch:170|Loss:0.0012645035749301314|test loss:0.013801807537674904\n",
      "Epoch:180|Loss:0.0012645035749301314|test loss:0.013801807537674904\n",
      "Epoch:190|Loss:0.0012645035749301314|test loss:0.013801807537674904\n"
     ]
    }
   ],
   "source": [
    "# writing training loop \n",
    "torch.manual_seed(42)\n",
    "epochs = 200;\n",
    "for epoch in range(epochs):\n",
    "    model_1.train()\n",
    "    # forward pass\n",
    "    y_pred = model_1(X_train)\n",
    "    # calculating loss\n",
    "    loss = loss_fn(y_pred,y_train)\n",
    "    # optimizer\n",
    "    optimizer.zero_grad()\n",
    "    # backpropagation\n",
    "    loss.backward()\n",
    "    optimizer.step()\n",
    "    #### TESTING\n",
    "    model_1.eval()\n",
    "    with torch.inference_mode():\n",
    "        test_pred = model_1(X_test)\n",
    "        test_loss = loss_fn(test_pred,y_test)\n",
    "    # printing whats happening\n",
    "    if epoch%10==0:\n",
    "        print(f\"Epoch:{epoch}|Loss:{loss}|test loss:{test_loss}\")\n",
    "        "
   ]
  },
  {
   "cell_type": "code",
   "execution_count": null,
   "id": "12319088-81b2-4a86-832e-ad4f62521779",
   "metadata": {},
   "outputs": [],
   "source": []
  },
  {
   "cell_type": "code",
   "execution_count": 35,
   "id": "bcf6447b-ccb0-4286-833f-813de645876f",
   "metadata": {},
   "outputs": [
    {
     "data": {
      "text/plain": [
       "OrderedDict([('linear_layer.weight', tensor([[0.6968]])),\n",
       "             ('linear_layer.bias', tensor([0.3025]))])"
      ]
     },
     "execution_count": 35,
     "metadata": {},
     "output_type": "execute_result"
    }
   ],
   "source": [
    "model_1.state_dict()"
   ]
  },
  {
   "cell_type": "code",
   "execution_count": 36,
   "id": "16fa6228-26bd-4a6e-9146-36d07ac74b8c",
   "metadata": {},
   "outputs": [],
   "source": [
    "with torch.inference_mode(): \n",
    "    y_pred_new = model_1(X_test)"
   ]
  },
  {
   "cell_type": "code",
   "execution_count": 37,
   "id": "5667d236-5777-45a4-94d5-82b2f4f81703",
   "metadata": {},
   "outputs": [
    {
     "data": {
      "image/png": "[encoded data removed]",
      "text/plain": [
       "<Figure size 640x480 with 1 Axes>"
      ]
     },
     "metadata": {},
     "output_type": "display_data"
    }
   ],
   "source": [
    "plot_predictions(predictions = y_pred_new)   "
   ]
  },
  {
   "cell_type": "markdown",
   "id": "6289aafb-35cd-42b1-a83e-3f80be467414",
   "metadata": {},
   "source": [
    "# saving and loading a trained model"
   ]
  },
  {
   "cell_type": "code",
   "execution_count": 40,
   "id": "360b14c1-30f1-4a9a-afa5-a61ecb8536c0",
   "metadata": {},
   "outputs": [],
   "source": [
    "from pathlib import Path\n",
    "model_path = Path(\"models\")\n",
    "model_name = \"01_pytorch_workflow_model_1.pth\"\n",
    "model_save_path = model_path/model_name\n",
    "torch.save(obj = model_1.state_dict(),f = \"models/pytorch\")"
   ]
  },
  {
   "cell_type": "code",
   "execution_count": 44,
   "id": "133507d3-eb8c-4ba4-addc-b9299a59eff0",
   "metadata": {},
   "outputs": [
    {
     "data": {
      "text/plain": [
       "<All keys matched successfully>"
      ]
     },
     "execution_count": 44,
     "metadata": {},
     "output_type": "execute_result"
    }
   ],
   "source": [
    "# loading a pytorch model\n",
    "loaded_model_1 = LinearRegressionModelV2()\n",
    "loaded_model_1.load_state_dict(torch.load(\"models/pytorch\"))"
   ]
  },
  {
   "cell_type": "code",
   "execution_count": 45,
   "id": "ed990b23-4b25-40f0-864c-89d7a2b6b0d7",
   "metadata": {},
   "outputs": [
    {
     "data": {
      "text/plain": [
       "OrderedDict([('linear_layer.weight', tensor([[0.6968]])),\n",
       "             ('linear_layer.bias', tensor([0.3025]))])"
      ]
     },
     "execution_count": 45,
     "metadata": {},
     "output_type": "execute_result"
    }
   ],
   "source": [
    "loaded_model_1.state_dict()"
   ]
  },
  {
   "cell_type": "code",
   "execution_count": 46,
   "id": "999cb61e-7bbf-4aee-97d1-1f5e43c68b07",
   "metadata": {},
   "outputs": [],
   "source": [
    "# evaluate loaded model \n",
    "loaded_model_1.eval()\n",
    "with torch.inference_mode():\n",
    "    loaded_model_1_preds = loaded_model_1(X_test)"
   ]
  },
  {
   "cell_type": "code",
   "execution_count": 47,
   "id": "166d04cd-d6d0-4180-b26b-137c029d8e5d",
   "metadata": {},
   "outputs": [
    {
     "data": {
      "text/plain": [
       "tensor([[True],\n",
       "        [True],\n",
       "        [True],\n",
       "        [True],\n",
       "        [True],\n",
       "        [True],\n",
       "        [True],\n",
       "        [True],\n",
       "        [True],\n",
       "        [True]])"
      ]
     },
     "execution_count": 47,
     "metadata": {},
     "output_type": "execute_result"
    }
   ],
   "source": [
    "y_pred_new == loaded_model_1_preds"
   ]
  },
  {
   "cell_type": "code",
   "execution_count": null,
   "id": "730c9d68-1108-499c-ae2b-b180bd254224",
   "metadata": {},
   "outputs": [],
   "source": []
  }
 ],
 "metadata": {
  "kernelspec": {
   "display_name": "Python 3 (ipykernel)",
   "language": "python",
   "name": "python3"
  },
  "language_info": {
   "codemirror_mode": {
    "name": "ipython",
    "version": 3
   },
   "file_extension": ".py",
   "mimetype": "text/x-python",
   "name": "python",
   "nbconvert_exporter": "python",
   "pygments_lexer": "ipython3",
   "version": "3.11.3"
  }
 },
 "nbformat": 4,
 "nbformat_minor": 5
}
