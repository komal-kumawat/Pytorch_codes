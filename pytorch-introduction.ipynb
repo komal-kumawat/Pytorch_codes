{
 "cells": [
  {
   "cell_type": "code",
   "execution_count": 12,
   "id": "1c8a3f8b-a768-42cc-a36c-fe7e347e6c85",
   "metadata": {},
   "outputs": [
    {
     "name": "stdout",
     "output_type": "stream",
     "text": [
      "2.3.1+cpu\n"
     ]
    }
   ],
   "source": [
    "import torch\n",
    "import numpy as np\n",
    "import matplotlib.pyplot as plt\n",
    "import pandas as pd\n",
    "print(torch.__version__)"
   ]
  },
  {
   "cell_type": "code",
   "execution_count": 16,
   "id": "b6d67d7b-911c-43c1-bb6d-9ddad7a4129c",
   "metadata": {},
   "outputs": [
    {
     "name": "stdout",
     "output_type": "stream",
     "text": [
      "tensor(7)\n",
      "0\n",
      "7\n"
     ]
    }
   ],
   "source": [
    "# scalar\n",
    "x = torch.tensor(7)\n",
    "print(x)\n",
    "print(x.ndim)\n",
    "print(x.item())"
   ]
  },
  {
   "cell_type": "code",
   "execution_count": 2,
   "id": "6535eb50-6954-49b1-8ca8-b1ef54602103",
   "metadata": {},
   "outputs": [
    {
     "data": {
      "text/plain": [
       "[1, 2, 3, 5]"
      ]
     },
     "execution_count": 2,
     "metadata": {},
     "output_type": "execute_result"
    }
   ],
   "source": [
    "a = [1,2,3,5]\n",
    "a"
   ]
  },
  {
   "cell_type": "markdown",
   "id": "0e12b5d2-731c-4db5-9bf0-406b6ede7ed4",
   "metadata": {},
   "source": [
    "Tensors"
   ]
  },
  {
   "cell_type": "code",
   "execution_count": 3,
   "id": "46a39801-83a1-4754-9608-c3193abc4c02",
   "metadata": {},
   "outputs": [
    {
     "data": {
      "text/plain": [
       "tensor([[ 0.4808, -0.9913,  0.3170, -0.0063],\n",
       "        [ 0.4587, -0.5552, -0.4796,  0.1292],\n",
       "        [ 1.3621,  0.3759, -1.3948,  0.3692]])"
      ]
     },
     "execution_count": 3,
     "metadata": {},
     "output_type": "execute_result"
    }
   ],
   "source": [
    "tensor_2d= torch.randn(3,4)\n",
    "tensor_2d"
   ]
  },
  {
   "cell_type": "code",
   "execution_count": 6,
   "id": "e626422a-5de8-4b61-b734-3ba6118b3a07",
   "metadata": {},
   "outputs": [
    {
     "data": {
      "text/plain": [
       "tensor([[0., 0., 0., 0.],\n",
       "        [0., 0., 0., 0.],\n",
       "        [0., 0., 0., 0.]])"
      ]
     },
     "execution_count": 6,
     "metadata": {},
     "output_type": "execute_result"
    }
   ],
   "source": [
    "tensor_2d= torch.zeros(3,4)\n",
    "tensor_2d"
   ]
  },
  {
   "cell_type": "code",
   "execution_count": 9,
   "id": "fd8a7ab5-294e-4659-8a3c-64f5c94ad416",
   "metadata": {},
   "outputs": [
    {
     "data": {
      "text/plain": [
       "tensor([1, 2, 3, 5])"
      ]
     },
     "execution_count": 9,
     "metadata": {},
     "output_type": "execute_result"
    }
   ],
   "source": [
    "# creating tensors from numpy arrays\n",
    "b = torch.tensor(a)\n",
    "b"
   ]
  },
  {
   "cell_type": "code",
   "execution_count": 17,
   "id": "1efa0c28-4ffb-45cd-b885-aaa3d21c25a5",
   "metadata": {},
   "outputs": [
    {
     "data": {
      "text/plain": [
       "tensor([7, 7])"
      ]
     },
     "execution_count": 17,
     "metadata": {},
     "output_type": "execute_result"
    }
   ],
   "source": [
    "# vector\n",
    "vector= torch.tensor([7,7])\n",
    "vector"
   ]
  },
  {
   "cell_type": "code",
   "execution_count": 18,
   "id": "7e961f14-385d-43a0-8ff4-b29360791be2",
   "metadata": {},
   "outputs": [
    {
     "data": {
      "text/plain": [
       "1"
      ]
     },
     "execution_count": 18,
     "metadata": {},
     "output_type": "execute_result"
    }
   ],
   "source": [
    "vector.ndim"
   ]
  },
  {
   "cell_type": "code",
   "execution_count": 19,
   "id": "fe532a21-16a8-400d-8473-a83719c9fee4",
   "metadata": {},
   "outputs": [
    {
     "data": {
      "text/plain": [
       "torch.Size([2])"
      ]
     },
     "execution_count": 19,
     "metadata": {},
     "output_type": "execute_result"
    }
   ],
   "source": [
    "vector.shape"
   ]
  },
  {
   "cell_type": "code",
   "execution_count": 22,
   "id": "f1178984-4f05-41fa-a592-a0abbf235ca6",
   "metadata": {},
   "outputs": [
    {
     "data": {
      "text/plain": [
       "tensor([[[0.4086, 0.2953, 0.3341],\n",
       "         [0.7058, 0.3661, 0.6530],\n",
       "         [0.6636, 0.8969, 0.7904],\n",
       "         ...,\n",
       "         [0.8902, 0.7542, 0.4104],\n",
       "         [0.7963, 0.1129, 0.5641],\n",
       "         [0.6669, 0.5105, 0.9382]],\n",
       "\n",
       "        [[0.3252, 0.1569, 0.6330],\n",
       "         [0.7486, 0.5133, 0.8483],\n",
       "         [0.4513, 0.2232, 0.4559],\n",
       "         ...,\n",
       "         [0.1277, 0.4772, 0.5216],\n",
       "         [0.5175, 0.6487, 0.1264],\n",
       "         [0.8587, 0.3447, 0.8630]],\n",
       "\n",
       "        [[0.5546, 0.7125, 0.3138],\n",
       "         [0.0752, 0.6037, 0.4562],\n",
       "         [0.7522, 0.9475, 0.9130],\n",
       "         ...,\n",
       "         [0.4647, 0.3471, 0.3723],\n",
       "         [0.9396, 0.3794, 0.4073],\n",
       "         [0.7170, 0.6313, 0.6143]],\n",
       "\n",
       "        ...,\n",
       "\n",
       "        [[0.7631, 0.5028, 0.8157],\n",
       "         [0.1121, 0.6952, 0.1965],\n",
       "         [0.4359, 0.8302, 0.1963],\n",
       "         ...,\n",
       "         [0.1756, 0.8875, 0.3761],\n",
       "         [0.3078, 0.1167, 0.7263],\n",
       "         [0.9079, 0.0243, 0.2588]],\n",
       "\n",
       "        [[0.1927, 0.1513, 0.3539],\n",
       "         [0.5789, 0.1760, 0.8982],\n",
       "         [0.9556, 0.3195, 0.2638],\n",
       "         ...,\n",
       "         [0.7760, 0.2197, 0.8424],\n",
       "         [0.5168, 0.6587, 0.3285],\n",
       "         [0.2118, 0.2690, 0.8605]],\n",
       "\n",
       "        [[0.2855, 0.8418, 0.0493],\n",
       "         [0.2157, 0.8088, 0.7165],\n",
       "         [0.4750, 0.2706, 0.5040],\n",
       "         ...,\n",
       "         [0.2489, 0.2717, 0.9051],\n",
       "         [0.3299, 0.7133, 0.3603],\n",
       "         [0.7636, 0.0715, 0.9896]]])"
      ]
     },
     "execution_count": 22,
     "metadata": {},
     "output_type": "execute_result"
    }
   ],
   "source": [
    "random_image_size_tensor = torch.rand(size = (224,224,3))\n",
    "random_image_size_tensor"
   ]
  },
  {
   "cell_type": "code",
   "execution_count": 25,
   "id": "6023acce-e4b8-4583-8337-a2fdb063a0d1",
   "metadata": {},
   "outputs": [
    {
     "data": {
      "text/plain": [
       "tensor([0, 1, 2, 3, 4, 5, 6, 7, 8, 9])"
      ]
     },
     "execution_count": 25,
     "metadata": {},
     "output_type": "execute_result"
    }
   ],
   "source": [
    "torch.arange(0,10)"
   ]
  },
  {
   "cell_type": "code",
   "execution_count": 28,
   "id": "b6fb420c-0639-4acd-82b1-df9b6c2a6b32",
   "metadata": {},
   "outputs": [
    {
     "data": {
      "text/plain": [
       "tensor([[0.0463, 0.0166, 0.5331, 0.5002],\n",
       "        [0.4878, 0.1442, 0.6112, 0.1847],\n",
       "        [0.0509, 0.4468, 0.9070, 0.9975]])"
      ]
     },
     "execution_count": 28,
     "metadata": {},
     "output_type": "execute_result"
    }
   ],
   "source": [
    "a = torch.rand(3,4)\n",
    "a"
   ]
  },
  {
   "cell_type": "code",
   "execution_count": 29,
   "id": "4d866b8a-4aa8-4e83-9bde-cd1b04b7e1b3",
   "metadata": {},
   "outputs": [
    {
     "data": {
      "text/plain": [
       "tensor([[0.4170, 0.6922, 0.2191],\n",
       "        [0.8475, 0.0631, 0.0738],\n",
       "        [0.9589, 0.6514, 0.8666],\n",
       "        [0.1609, 0.1630, 0.0217]])"
      ]
     },
     "execution_count": 29,
     "metadata": {},
     "output_type": "execute_result"
    }
   ],
   "source": [
    "b = torch.rand(4,3)\n",
    "b"
   ]
  },
  {
   "cell_type": "code",
   "execution_count": 30,
   "id": "6e7b44b7-66cb-444b-abee-d0cacac0733f",
   "metadata": {},
   "outputs": [
    {
     "data": {
      "text/plain": [
       "tensor([[0.6251, 0.4619, 0.4842],\n",
       "        [0.9415, 0.7750, 0.6512],\n",
       "        [1.4302, 0.8169, 0.8518]])"
      ]
     },
     "execution_count": 30,
     "metadata": {},
     "output_type": "execute_result"
    }
   ],
   "source": [
    "torch.matmul(a,b)"
   ]
  },
  {
   "cell_type": "code",
   "execution_count": 35,
   "id": "c2c9339a-3325-4266-aa78-8919149514d0",
   "metadata": {},
   "outputs": [
    {
     "data": {
      "text/plain": [
       "tensor([[0.6251, 0.4619, 0.4842],\n",
       "        [0.9415, 0.7750, 0.6512],\n",
       "        [1.4302, 0.8169, 0.8518]])"
      ]
     },
     "execution_count": 35,
     "metadata": {},
     "output_type": "execute_result"
    }
   ],
   "source": [
    "a@b \n",
    "# @ = matmul\n"
   ]
  },
  {
   "cell_type": "code",
   "execution_count": 36,
   "id": "5869ec6d-ad8a-403c-8da2-60f48845cfa6",
   "metadata": {},
   "outputs": [
    {
     "data": {
      "text/plain": [
       "tensor([[0.6251, 0.4619, 0.4842],\n",
       "        [0.9415, 0.7750, 0.6512],\n",
       "        [1.4302, 0.8169, 0.8518]])"
      ]
     },
     "execution_count": 36,
     "metadata": {},
     "output_type": "execute_result"
    }
   ],
   "source": [
    "torch.mm(a,b)"
   ]
  },
  {
   "cell_type": "code",
   "execution_count": 38,
   "id": "ee4b4d84-8013-46d2-8272-e9127d4bac23",
   "metadata": {},
   "outputs": [
    {
     "name": "stdout",
     "output_type": "stream",
     "text": [
      "tensor(0.9975)\n",
      "tensor(0.9975)\n"
     ]
    }
   ],
   "source": [
    "print(a.max())\n",
    "print(torch.max(a))"
   ]
  },
  {
   "cell_type": "code",
   "execution_count": 39,
   "id": "4104b05f-75b5-4549-8f76-174b1b780396",
   "metadata": {},
   "outputs": [
    {
     "name": "stdout",
     "output_type": "stream",
     "text": [
      "tensor(0.0166)\n",
      "tensor(0.0166)\n"
     ]
    }
   ],
   "source": [
    "print(a.min())\n",
    "print(torch.min(a))"
   ]
  },
  {
   "cell_type": "code",
   "execution_count": 40,
   "id": "ad4ba189-fb7a-4922-bf89-08f2bc71b9a6",
   "metadata": {},
   "outputs": [
    {
     "name": "stdout",
     "output_type": "stream",
     "text": [
      "tensor(11)\n",
      "tensor(11)\n"
     ]
    }
   ],
   "source": [
    "print(a.argmax())\n",
    "print(torch.argmax(a))"
   ]
  },
  {
   "cell_type": "code",
   "execution_count": 41,
   "id": "6e3cdd45-d39c-419f-b6ea-93af71e9bcbd",
   "metadata": {},
   "outputs": [
    {
     "name": "stdout",
     "output_type": "stream",
     "text": [
      "tensor(1)\n",
      "tensor(1)\n"
     ]
    }
   ],
   "source": [
    "print(a.argmin())\n",
    "print(torch.argmin(a))"
   ]
  },
  {
   "cell_type": "code",
   "execution_count": 47,
   "id": "6c0cb6df-0c34-46eb-9dd0-d2e99cf562ad",
   "metadata": {},
   "outputs": [
    {
     "data": {
      "text/plain": [
       "tensor([3, 4, 5, 6, 7, 8, 9])"
      ]
     },
     "execution_count": 47,
     "metadata": {},
     "output_type": "execute_result"
    }
   ],
   "source": [
    "c = torch.arange(3,10)\n",
    "c"
   ]
  },
  {
   "cell_type": "code",
   "execution_count": 48,
   "id": "cb84e5b1-bc05-47cc-ba9b-81c000edec3d",
   "metadata": {},
   "outputs": [
    {
     "data": {
      "text/plain": [
       "tensor([[3, 4, 5, 6, 7, 8, 9],\n",
       "        [3, 4, 5, 6, 7, 8, 9],\n",
       "        [3, 4, 5, 6, 7, 8, 9],\n",
       "        [3, 4, 5, 6, 7, 8, 9]])"
      ]
     },
     "execution_count": 48,
     "metadata": {},
     "output_type": "execute_result"
    }
   ],
   "source": [
    "c_stacked  = torch.stack([c,c,c,c],dim = 0)\n",
    "c_stacked"
   ]
  },
  {
   "cell_type": "code",
   "execution_count": 51,
   "id": "14ab0ae6-3fb8-40bf-8d9d-66199d8a9e4f",
   "metadata": {},
   "outputs": [
    {
     "data": {
      "text/plain": [
       "tensor([[3, 4, 5, 6, 7, 8, 9],\n",
       "        [3, 4, 5, 6, 7, 8, 9],\n",
       "        [3, 4, 5, 6, 7, 8, 9],\n",
       "        [3, 4, 5, 6, 7, 8, 9]])"
      ]
     },
     "execution_count": 51,
     "metadata": {},
     "output_type": "execute_result"
    }
   ],
   "source": [
    "c_stacked.squeeze()"
   ]
  },
  {
   "cell_type": "code",
   "execution_count": 52,
   "id": "65a68839-70af-40af-9598-d2402f839501",
   "metadata": {},
   "outputs": [
    {
     "data": {
      "text/plain": [
       "(tensor([[[1, 2, 3],\n",
       "          [4, 5, 6],\n",
       "          [7, 8, 9]]]),\n",
       " torch.Size([1, 3, 3]))"
      ]
     },
     "execution_count": 52,
     "metadata": {},
     "output_type": "execute_result"
    }
   ],
   "source": [
    "# indexing (selecting data from tensors)\n",
    "x = torch.arange(1,10).reshape(1,3,3)\n",
    "x,x.shape"
   ]
  },
  {
   "cell_type": "code",
   "execution_count": 53,
   "id": "66f9b66a-8ab6-4780-917f-004e8dbd2df1",
   "metadata": {},
   "outputs": [
    {
     "data": {
      "text/plain": [
       "tensor([[1, 2, 3],\n",
       "        [4, 5, 6],\n",
       "        [7, 8, 9]])"
      ]
     },
     "execution_count": 53,
     "metadata": {},
     "output_type": "execute_result"
    }
   ],
   "source": [
    "x[0]"
   ]
  },
  {
   "cell_type": "code",
   "execution_count": 55,
   "id": "69a5331f-82c8-4830-8c7b-c23e48b03302",
   "metadata": {},
   "outputs": [
    {
     "data": {
      "text/plain": [
       "(tensor([1, 2, 3]), tensor([1, 2, 3]))"
      ]
     },
     "execution_count": 55,
     "metadata": {},
     "output_type": "execute_result"
    }
   ],
   "source": [
    "x[0,0],x[0][0]"
   ]
  },
  {
   "cell_type": "code",
   "execution_count": 56,
   "id": "097f07e7-d134-455c-a170-8fbb8ccac0ba",
   "metadata": {},
   "outputs": [
    {
     "data": {
      "text/plain": [
       "(tensor(1), tensor(1))"
      ]
     },
     "execution_count": 56,
     "metadata": {},
     "output_type": "execute_result"
    }
   ],
   "source": [
    "x[0,0,0] , x[0][0][0]"
   ]
  },
  {
   "cell_type": "code",
   "execution_count": 60,
   "id": "a1709b6c-1c0f-467b-9e96-45423c922bc0",
   "metadata": {},
   "outputs": [
    {
     "data": {
      "text/plain": [
       "(array([1, 2, 3, 4, 5, 6, 7, 8, 9]),\n",
       " tensor([1, 2, 3, 4, 5, 6, 7, 8, 9], dtype=torch.int32))"
      ]
     },
     "execution_count": 60,
     "metadata": {},
     "output_type": "execute_result"
    }
   ],
   "source": [
    "# numpy array to tensor\n",
    "array = np.arange(1,10)\n",
    "tensor = torch.from_numpy(array)\n",
    "array,tensor"
   ]
  },
  {
   "cell_type": "code",
   "execution_count": 61,
   "id": "2e92c513-b23d-4695-ae7c-cfe92ddc57ce",
   "metadata": {},
   "outputs": [
    {
     "data": {
      "text/plain": [
       "(array([ 2,  3,  4,  5,  6,  7,  8,  9, 10]),\n",
       " tensor([1, 2, 3, 4, 5, 6, 7, 8, 9], dtype=torch.int32))"
      ]
     },
     "execution_count": 61,
     "metadata": {},
     "output_type": "execute_result"
    }
   ],
   "source": [
    "array = array+1\n",
    "array,tensor"
   ]
  },
  {
   "cell_type": "code",
   "execution_count": 62,
   "id": "721d44fb-3203-460b-9746-889d269729b0",
   "metadata": {},
   "outputs": [
    {
     "data": {
      "text/plain": [
       "(tensor([1., 1., 1., 1., 1., 1., 1.]),\n",
       " array([1., 1., 1., 1., 1., 1., 1.], dtype=float32))"
      ]
     },
     "execution_count": 62,
     "metadata": {},
     "output_type": "execute_result"
    }
   ],
   "source": [
    "# tensor to numpy\n",
    "tensor = torch.ones(7)\n",
    "numpy_tensor = tensor.numpy()\n",
    "tensor,numpy_tensor"
   ]
  },
  {
   "cell_type": "markdown",
   "id": "8dfbb0b7-191b-40e9-b05b-81f8ec309f1c",
   "metadata": {},
   "source": [
    "# reproducibility (tryng to take random out of random)\n"
   ]
  },
  {
   "cell_type": "code",
   "execution_count": 64,
   "id": "b0638cbd-51d2-429c-9e16-5ddf6e1d3dd4",
   "metadata": {},
   "outputs": [
    {
     "name": "stdout",
     "output_type": "stream",
     "text": [
      "tensor([[0.6023, 0.0959, 0.6370, 0.2396],\n",
      "        [0.1523, 0.1930, 0.6008, 0.1354],\n",
      "        [0.9245, 0.8734, 0.6374, 0.2410]])\n",
      "tensor([[0.9790, 0.2206, 0.6998, 0.6573],\n",
      "        [0.8715, 0.7162, 0.2396, 0.8947],\n",
      "        [0.2817, 0.7267, 0.2323, 0.3263]])\n",
      "tensor([[False, False, False, False],\n",
      "        [False, False, False, False],\n",
      "        [False, False, False, False]])\n"
     ]
    }
   ],
   "source": [
    "a = torch.rand(3,4)\n",
    "b = torch.rand(3,4)\n",
    "print(a)\n",
    "print(b)\n",
    "print(a==b)"
   ]
  },
  {
   "cell_type": "code",
   "execution_count": 68,
   "id": "f8e6e682-360b-433e-8653-e9d132fa69c3",
   "metadata": {},
   "outputs": [
    {
     "name": "stdout",
     "output_type": "stream",
     "text": [
      "tensor([[0.8823, 0.9150, 0.3829, 0.9593],\n",
      "        [0.3904, 0.6009, 0.2566, 0.7936],\n",
      "        [0.9408, 0.1332, 0.9346, 0.5936]])\n",
      "tensor([[0.8823, 0.9150, 0.3829, 0.9593],\n",
      "        [0.3904, 0.6009, 0.2566, 0.7936],\n",
      "        [0.9408, 0.1332, 0.9346, 0.5936]])\n",
      "tensor([[True, True, True, True],\n",
      "        [True, True, True, True],\n",
      "        [True, True, True, True]])\n"
     ]
    }
   ],
   "source": [
    "random_seed = 42\n",
    "torch.manual_seed(random_seed)\n",
    "c = torch.rand(3,4)\n",
    "torch.manual_seed(random_seed)\n",
    "d = torch.rand(3,4)\n",
    "print(c)\n",
    "print(d)\n",
    "print(c==d)"
   ]
  },
  {
   "cell_type": "code",
   "execution_count": 70,
   "id": "6c323f38-0e92-47e5-8df9-e606dac52e92",
   "metadata": {},
   "outputs": [
    {
     "data": {
      "text/plain": [
       "False"
      ]
     },
     "execution_count": 70,
     "metadata": {},
     "output_type": "execute_result"
    }
   ],
   "source": [
    "torch.cuda.is_available()"
   ]
  },
  {
   "cell_type": "code",
   "execution_count": null,
   "id": "e0cf3dd7-37f6-45fb-9f85-1912fe4dac23",
   "metadata": {},
   "outputs": [],
   "source": []
  }
 ],
 "metadata": {
  "kernelspec": {
   "display_name": "Python 3 (ipykernel)",
   "language": "python",
   "name": "python3"
  },
  "language_info": {
   "codemirror_mode": {
    "name": "ipython",
    "version": 3
   },
   "file_extension": ".py",
   "mimetype": "text/x-python",
   "name": "python",
   "nbconvert_exporter": "python",
   "pygments_lexer": "ipython3",
   "version": "3.11.3"
  }
 },
 "nbformat": 4,
 "nbformat_minor": 5
}
